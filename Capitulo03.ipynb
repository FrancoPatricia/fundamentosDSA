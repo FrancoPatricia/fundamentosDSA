{
 "cells": [
  {
   "cell_type": "markdown",
   "metadata": {},
   "source": [
    "## Capítulo 03 - LOOPS,CONDICIONAIS, MÉTODOS E FUNÇÕES"
   ]
  },
  {
   "cell_type": "code",
   "execution_count": 1,
   "metadata": {},
   "outputs": [
    {
     "name": "stdout",
     "output_type": "stream",
     "text": [
      "Aprendendo Python\n"
     ]
    }
   ],
   "source": [
    "# Condicionais if e else\n",
    "if 10 > 5:\n",
    "    print(\"Aprendendo Python\")"
   ]
  },
  {
   "cell_type": "code",
   "execution_count": 2,
   "metadata": {},
   "outputs": [],
   "source": [
    "# Essa condicional é falsa, por isso ele não imprime e pula para a próxima linha de códigos\n",
    "if 10 < 5:\n",
    "    print(\"Aprendendo Python\")"
   ]
  },
  {
   "cell_type": "code",
   "execution_count": 3,
   "metadata": {},
   "outputs": [
    {
     "name": "stdout",
     "output_type": "stream",
     "text": [
      "Deu errado\n"
     ]
    }
   ],
   "source": [
    "if 10 < 5:\n",
    "    print(\"Aprendendo Python\")\n",
    "else:\n",
    "    print(\"Deu errado\")\n",
    "    "
   ]
  },
  {
   "cell_type": "code",
   "execution_count": 4,
   "metadata": {},
   "outputs": [],
   "source": [
    "## Condicionais aninhadas"
   ]
  },
  {
   "cell_type": "code",
   "execution_count": 5,
   "metadata": {},
   "outputs": [
    {
     "name": "stdout",
     "output_type": "stream",
     "text": [
      "Você já é adulto\n"
     ]
    }
   ],
   "source": [
    "Idade = 20\n",
    "if Idade > 15:\n",
    "    print(\"Você já é adulto\")"
   ]
  },
  {
   "cell_type": "code",
   "execution_count": 15,
   "metadata": {},
   "outputs": [
    {
     "name": "stdout",
     "output_type": "stream",
     "text": [
      "Pode arrumar a cama\n"
     ]
    }
   ],
   "source": [
    "Nome = \"Manu\"\n",
    "if Idade > 10:\n",
    "    if Nome == \"Manu\":\n",
    "        print(\"Pode arrumar a cama\")\n",
    "    else:\n",
    "        print(\"Pode estudar\")"
   ]
  },
  {
   "cell_type": "code",
   "execution_count": 18,
   "metadata": {},
   "outputs": [],
   "source": [
    "Nome = \"Manu\"\n",
    "if Idade < 10:\n",
    "    if Nome == \"Manu\":\n",
    "        print(\"Pode arrumar a cama\")\n",
    "    else:\n",
    "        print(\"Pode estudar\")"
   ]
  },
  {
   "cell_type": "code",
   "execution_count": 8,
   "metadata": {},
   "outputs": [
    {
     "name": "stdout",
     "output_type": "stream",
     "text": [
      "Tá ficando difícil\n"
     ]
    }
   ],
   "source": [
    "Nome = \"Patricia\"\n",
    "Idade = 27\n",
    "if Idade >= 27 and Nome == \"Patricia\":\n",
    "    print(\"Tá ficando difícil\")"
   ]
  },
  {
   "cell_type": "code",
   "execution_count": 9,
   "metadata": {},
   "outputs": [
    {
     "name": "stdout",
     "output_type": "stream",
     "text": [
      "Tá ficando difícil\n"
     ]
    }
   ],
   "source": [
    "if (Idade >=27) or (Nome == \"Patricia\"):\n",
    "    print(\"Tá ficando difícil\")"
   ]
  },
  {
   "cell_type": "code",
   "execution_count": 23,
   "metadata": {},
   "outputs": [
    {
     "name": "stdout",
     "output_type": "stream",
     "text": [
      "Dia chato\n"
     ]
    }
   ],
   "source": [
    "#Elif\n",
    "Dia = \"Segunda\"\n",
    "if Dia == \"Segunda\":\n",
    "    print(\"Dia chato\")\n",
    "else:\n",
    "    print(\"Dia legal\")"
   ]
  },
  {
   "cell_type": "code",
   "execution_count": 25,
   "metadata": {},
   "outputs": [
    {
     "name": "stdout",
     "output_type": "stream",
     "text": [
      "Dia chato\n"
     ]
    }
   ],
   "source": [
    "if Dia == \"Segunda\":\n",
    "    print(\"Dia chato\")\n",
    "elif Dia == \"Terça\":\n",
    "    print(\"Dia legal\")\n",
    "else:\n",
    "    print(\"To de folga\")"
   ]
  },
  {
   "cell_type": "code",
   "execution_count": 26,
   "metadata": {},
   "outputs": [],
   "source": [
    "# USando condicionais para criar placeholders"
   ]
  },
  {
   "cell_type": "code",
   "execution_count": 29,
   "metadata": {},
   "outputs": [
    {
     "name": "stdout",
     "output_type": "stream",
     "text": [
      "Digite a disciplina: Matemática\n",
      "Digite sua nota 0 a 10): 8\n",
      "Parabéns\n"
     ]
    }
   ],
   "source": [
    "Disciplina =  input(\"Digite a disciplina: \")\n",
    "Nota = input(\"Digite sua nota 0 a 10): \")\n",
    "if Disciplina == \"Matemática\" and Nota >= \"7\":\n",
    "    print(\"Parabéns\")\n",
    "else: \n",
    "    print(\"Desculpe\")"
   ]
  },
  {
   "cell_type": "code",
   "execution_count": 1,
   "metadata": {},
   "outputs": [
    {
     "name": "stdout",
     "output_type": "stream",
     "text": [
      "Digite a disciplina: Matemática\n",
      "Digite sua nota 0 a 10): 8\n",
      "Parabéns, você foi aprovado em Matemática com nota final '8'\n"
     ]
    }
   ],
   "source": [
    "Disciplina = input(\"Digite a disciplina: \")\n",
    "Nota = input(\"Digite sua nota 0 a 10): \")\n",
    "if Disciplina == \"Matemática\" and Nota >= \"7\":\n",
    "    print(\"Parabéns, você foi aprovado em %s com nota final %r\" %(Disciplina, Nota))\n",
    "else: \n",
    "    print(\"Desculpe\")"
   ]
  },
  {
   "cell_type": "markdown",
   "metadata": {},
   "source": [
    "## Loop For"
   ]
  },
  {
   "cell_type": "code",
   "execution_count": 1,
   "metadata": {},
   "outputs": [
    {
     "name": "stdout",
     "output_type": "stream",
     "text": [
      "1\n",
      "2\n",
      "3\n",
      "4\n",
      "5\n"
     ]
    }
   ],
   "source": [
    "#Loop for em uma tupla\n",
    "Tupla = (1, 2, 3, 4, 5)\n",
    "for x in Tupla:\n",
    "    print(x)"
   ]
  },
  {
   "cell_type": "code",
   "execution_count": 2,
   "metadata": {},
   "outputs": [
    {
     "name": "stdout",
     "output_type": "stream",
     "text": [
      "Python\n",
      "Java\n",
      "R\n"
     ]
    }
   ],
   "source": [
    "#Loop for em uma lista\n",
    "Lista = [\"Python\", \"Java\", \"R\"]\n",
    "for contador in Lista:\n",
    "    print(contador)"
   ]
  },
  {
   "cell_type": "code",
   "execution_count": 4,
   "metadata": {},
   "outputs": [
    {
     "name": "stdout",
     "output_type": "stream",
     "text": [
      "2\n",
      "4\n",
      "6\n",
      "8\n",
      "10\n"
     ]
    }
   ],
   "source": [
    "#Encontrando números pares\n",
    "Numeros = [1, 2, 3, 4, 5, 6, 7, 8, 9, 10]\n",
    "for num in Numeros:\n",
    "    if num % 2 == 0:\n",
    "        print(num)"
   ]
  },
  {
   "cell_type": "code",
   "execution_count": 5,
   "metadata": {},
   "outputs": [
    {
     "name": "stdout",
     "output_type": "stream",
     "text": [
      "1\n",
      "3\n",
      "5\n",
      "7\n",
      "9\n"
     ]
    }
   ],
   "source": [
    "Numeros = [1, 2, 3, 4, 5, 6, 7, 8, 9, 10]\n",
    "for num in Numeros:\n",
    "    if num % 2 != 0:\n",
    "        print(num)"
   ]
  },
  {
   "cell_type": "code",
   "execution_count": 6,
   "metadata": {},
   "outputs": [
    {
     "name": "stdout",
     "output_type": "stream",
     "text": [
      "[1, 2, 3]\n",
      "[4, 5, 6]\n",
      "[7, 8, 9]\n"
     ]
    }
   ],
   "source": [
    "## Loop for aninhados\n",
    "Lista = [[1, 2, 3],[4, 5, 6], [7, 8, 9]]\n",
    "for list in Lista:\n",
    "    print(list)"
   ]
  },
  {
   "cell_type": "code",
   "execution_count": 1,
   "metadata": {},
   "outputs": [
    {
     "name": "stdout",
     "output_type": "stream",
     "text": [
      "0\n",
      "1\n",
      "2\n",
      "3\n",
      "4\n",
      "5\n",
      "6\n",
      "7\n",
      "8\n",
      "9\n"
     ]
    }
   ],
   "source": [
    "# Loop While\n",
    "x = 0\n",
    "while x < 10:\n",
    "    print(x)\n",
    "    x = x + 1"
   ]
  },
  {
   "cell_type": "code",
   "execution_count": 2,
   "metadata": {},
   "outputs": [
    {
     "name": "stdout",
     "output_type": "stream",
     "text": [
      "O valor de x é:  0\n",
      "O valor de x é:  1\n",
      "O valor de x é:  2\n",
      "O valor de x é:  3\n",
      "O valor de x é:  4\n",
      "O valor de x é:  5\n",
      "O valor de x é:  6\n",
      "O valor de x é:  7\n",
      "O valor de x é:  8\n",
      "O valor de x é:  9\n",
      "Código concluído\n"
     ]
    }
   ],
   "source": [
    "# Usando else para interromper o loop while\n",
    "x = 0\n",
    "\n",
    "while x < 10:\n",
    "    print(\"O valor de x é: \", x)\n",
    "    x += 1\n",
    "    \n",
    "else:\n",
    "    print(\"Código concluído\")"
   ]
  },
  {
   "cell_type": "code",
   "execution_count": 12,
   "metadata": {},
   "outputs": [
    {
     "name": "stdout",
     "output_type": "stream",
     "text": [
      "0\n",
      "1\n",
      "2\n",
      "3\n",
      "4\n",
      "5\n",
      "6\n",
      "7\n",
      "8\n",
      "9\n"
     ]
    }
   ],
   "source": [
    "#Break, usado para pausar um loop while\n",
    "counter = 0\n",
    "while counter < 20:\n",
    "    if counter == 10:\n",
    "        break\n",
    "    else:\n",
    "        pass\n",
    "    print(counter)\n",
    "    counter +=1"
   ]
  },
  {
   "cell_type": "code",
   "execution_count": 13,
   "metadata": {},
   "outputs": [
    {
     "name": "stdout",
     "output_type": "stream",
     "text": [
      "0\n",
      "1\n",
      "2\n",
      "3\n",
      "4\n",
      "5\n",
      "6\n",
      "7\n",
      "8\n",
      "9\n"
     ]
    }
   ],
   "source": [
    "x =0\n",
    "while x < 10:\n",
    "    if x == 11:\n",
    "        break\n",
    "    else:\n",
    "        pass\n",
    "    print(x)\n",
    "    x = x + 1"
   ]
  },
  {
   "cell_type": "code",
   "execution_count": 14,
   "metadata": {},
   "outputs": [
    {
     "name": "stdout",
     "output_type": "stream",
     "text": [
      "P\n",
      "t\n",
      "h\n",
      "o\n",
      "n\n"
     ]
    }
   ],
   "source": [
    "#Usando continue, você elimina a célula \n",
    "for x in \"Python\":\n",
    "    if x == \"y\":\n",
    "        continue\n",
    "    print(x)"
   ]
  },
  {
   "cell_type": "code",
   "execution_count": 15,
   "metadata": {},
   "outputs": [
    {
     "name": "stdout",
     "output_type": "stream",
     "text": [
      "1\n",
      "2\n",
      "4\n",
      "5\n"
     ]
    }
   ],
   "source": [
    "for num in (1, 2, 3, 4, 5):\n",
    "    if num == 3:\n",
    "        continue\n",
    "    print(num)"
   ]
  },
  {
   "cell_type": "code",
   "execution_count": 18,
   "metadata": {},
   "outputs": [
    {
     "name": "stdout",
     "output_type": "stream",
     "text": [
      "1\n",
      "3\n",
      "5\n",
      "7\n",
      "9\n",
      "11\n",
      "13\n",
      "15\n",
      "17\n",
      "19\n",
      "21\n",
      "23\n",
      "25\n",
      "27\n",
      "29\n",
      "31\n",
      "33\n",
      "35\n",
      "37\n",
      "39\n",
      "41\n",
      "43\n",
      "45\n",
      "47\n",
      "49\n"
     ]
    }
   ],
   "source": [
    "# Range\n",
    "for x in range(1, 51, 2):\n",
    "    print(x)"
   ]
  },
  {
   "cell_type": "code",
   "execution_count": 19,
   "metadata": {},
   "outputs": [
    {
     "name": "stdout",
     "output_type": "stream",
     "text": [
      "0\n",
      "-1\n",
      "-2\n",
      "-3\n",
      "-4\n",
      "-5\n",
      "-6\n",
      "-7\n",
      "-8\n",
      "-9\n"
     ]
    }
   ],
   "source": [
    "for a in range(0, -10, -1):\n",
    "    print(a)"
   ]
  },
  {
   "cell_type": "code",
   "execution_count": 20,
   "metadata": {},
   "outputs": [
    {
     "name": "stdout",
     "output_type": "stream",
     "text": [
      "1\n",
      "2\n",
      "3\n",
      "4\n",
      "5\n"
     ]
    }
   ],
   "source": [
    "# Quando não usa o step, python entende que é = 1\n",
    "for i in range(1,6):\n",
    "    print(i)"
   ]
  },
  {
   "cell_type": "code",
   "execution_count": 21,
   "metadata": {},
   "outputs": [
    {
     "data": {
      "text/plain": [
       "range"
      ]
     },
     "execution_count": 21,
     "metadata": {},
     "output_type": "execute_result"
    }
   ],
   "source": [
    "type(range(1,2))"
   ]
  },
  {
   "cell_type": "code",
   "execution_count": 4,
   "metadata": {},
   "outputs": [
    {
     "name": "stdout",
     "output_type": "stream",
     "text": [
      "[1, 3, 6, 8, 10]\n"
     ]
    }
   ],
   "source": [
    "#Métodos\n",
    "Lista = [1, 3, 6, 8]\n",
    "Lista.append(10)\n",
    "print(Lista)"
   ]
  },
  {
   "cell_type": "code",
   "execution_count": 5,
   "metadata": {},
   "outputs": [
    {
     "data": {
      "text/plain": [
       "1"
      ]
     },
     "execution_count": 5,
     "metadata": {},
     "output_type": "execute_result"
    }
   ],
   "source": [
    "#Métodos são as funções incorporadas em objetos\n",
    "Lista.count(10)"
   ]
  },
  {
   "cell_type": "code",
   "execution_count": 7,
   "metadata": {},
   "outputs": [
    {
     "name": "stdout",
     "output_type": "stream",
     "text": [
      "Help on built-in function extend:\n",
      "\n",
      "extend(iterable, /) method of builtins.list instance\n",
      "    Extend list by appending elements from the iterable.\n",
      "\n"
     ]
    }
   ],
   "source": [
    "#Help é usado para dizer o que um método faz\n",
    "help(Lista.extend)"
   ]
  },
  {
   "cell_type": "code",
   "execution_count": 9,
   "metadata": {},
   "outputs": [
    {
     "name": "stdout",
     "output_type": "stream",
     "text": [
      "['Eu', 'sou', 'uma', 'string']\n"
     ]
    }
   ],
   "source": [
    "a = 'Eu sou uma string'\n",
    "print(a.split())"
   ]
  },
  {
   "cell_type": "code",
   "execution_count": 10,
   "metadata": {},
   "outputs": [],
   "source": [
    "#Funções: usa-se a palavra reservada def\n",
    "def func():\n",
    "    print(\"Hello World\")"
   ]
  },
  {
   "cell_type": "code",
   "execution_count": 11,
   "metadata": {},
   "outputs": [
    {
     "name": "stdout",
     "output_type": "stream",
     "text": [
      "Hello World\n"
     ]
    }
   ],
   "source": [
    "func()"
   ]
  },
  {
   "cell_type": "code",
   "execution_count": 15,
   "metadata": {},
   "outputs": [],
   "source": [
    "def func(nome):\n",
    "    print(\"Hello %s\" %(nome))"
   ]
  },
  {
   "cell_type": "code",
   "execution_count": 17,
   "metadata": {},
   "outputs": [
    {
     "name": "stdout",
     "output_type": "stream",
     "text": [
      "Hello Patricia\n"
     ]
    }
   ],
   "source": [
    "func(\"Patricia\")"
   ]
  },
  {
   "cell_type": "code",
   "execution_count": 18,
   "metadata": {},
   "outputs": [],
   "source": [
    "#Variavel global e local\n",
    "varGlobal = 10 #variavelglobal\n",
    "\n",
    "def soma(num1,num2):\n",
    "    varLocal = num1 + num2 #variavel local\n",
    "    print(varLocal)"
   ]
  },
  {
   "cell_type": "code",
   "execution_count": 19,
   "metadata": {},
   "outputs": [
    {
     "name": "stdout",
     "output_type": "stream",
     "text": [
      "15\n"
     ]
    }
   ],
   "source": [
    "soma(5, 10)"
   ]
  },
  {
   "cell_type": "code",
   "execution_count": 20,
   "metadata": {},
   "outputs": [
    {
     "name": "stdout",
     "output_type": "stream",
     "text": [
      "10\n"
     ]
    }
   ],
   "source": [
    "print(varGlobal)"
   ]
  },
  {
   "cell_type": "code",
   "execution_count": 21,
   "metadata": {},
   "outputs": [
    {
     "ename": "NameError",
     "evalue": "name 'varLocal' is not defined",
     "output_type": "error",
     "traceback": [
      "\u001b[1;31m---------------------------------------------------------------------------\u001b[0m",
      "\u001b[1;31mNameError\u001b[0m                                 Traceback (most recent call last)",
      "\u001b[1;32m<ipython-input-21-6ff1d360d399>\u001b[0m in \u001b[0;36m<module>\u001b[1;34m\u001b[0m\n\u001b[1;32m----> 1\u001b[1;33m \u001b[0mprint\u001b[0m\u001b[1;33m(\u001b[0m\u001b[0mvarLocal\u001b[0m\u001b[1;33m)\u001b[0m\u001b[1;33m\u001b[0m\u001b[1;33m\u001b[0m\u001b[0m\n\u001b[0m",
      "\u001b[1;31mNameError\u001b[0m: name 'varLocal' is not defined"
     ]
    }
   ],
   "source": [
    "#Essa variável se encontra dentro do código,por isso python não a executa\n",
    "print(varLocal) "
   ]
  },
  {
   "cell_type": "code",
   "execution_count": null,
   "metadata": {},
   "outputs": [],
   "source": []
  }
 ],
 "metadata": {
  "kernelspec": {
   "display_name": "Python 3",
   "language": "python",
   "name": "python3"
  },
  "language_info": {
   "codemirror_mode": {
    "name": "ipython",
    "version": 3
   },
   "file_extension": ".py",
   "mimetype": "text/x-python",
   "name": "python",
   "nbconvert_exporter": "python",
   "pygments_lexer": "ipython3",
   "version": "3.7.6"
  }
 },
 "nbformat": 4,
 "nbformat_minor": 4
}
